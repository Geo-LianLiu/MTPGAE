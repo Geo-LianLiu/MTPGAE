{
 "cells": [
  {
   "cell_type": "markdown",
   "metadata": {},
   "source": [
    "## PGAE for 1D MT inversion\n",
    "### Created on Oct 1st 2019\n",
    "### Lian Liu: lianliu1017@126.com"
   ]
  },
  {
   "cell_type": "markdown",
   "metadata": {},
   "source": [
    "### 1. import modules"
   ]
  },
  {
   "cell_type": "code",
   "execution_count": 1,
   "metadata": {},
   "outputs": [
    {
     "name": "stderr",
     "output_type": "stream",
     "text": [
      "2024-11-10 17:12:58.661063: I tensorflow/core/platform/cpu_feature_guard.cc:193] This TensorFlow binary is optimized with oneAPI Deep Neural Network Library (oneDNN) to use the following CPU instructions in performance-critical operations:  SSE4.1 SSE4.2 AVX AVX2 AVX512F FMA\n",
      "To enable them in other operations, rebuild TensorFlow with the appropriate compiler flags.\n"
     ]
    }
   ],
   "source": [
    "import tensorflow as tf\n",
    "import numpy as np\n",
    "import matplotlib.pyplot as plt\n",
    "from time import time\n",
    "from tensorflow.keras import models, layers, Input, Model, regularizers\n",
    "import sys\n",
    "sys.path.append(r'/work/ess-liul/Geophysics/MTPGAE')\n",
    "from MT1D_fwd import mt1d_analytic, mt1d_analytic_tensor\n",
    "import os\n",
    "# os.environ[\"CUDA_VISIBLE_DEVICES\"] = \"0\""
   ]
  },
  {
   "cell_type": "markdown",
   "metadata": {},
   "source": [
    "### 2. design neural networks"
   ]
  },
  {
   "cell_type": "markdown",
   "metadata": {},
   "source": [
    "#### 2.1 define loss function"
   ]
  },
  {
   "cell_type": "code",
   "execution_count": 2,
   "metadata": {},
   "outputs": [],
   "source": [
    "def custom_loss(y_true, y_pred):\n",
    "    custom_loss = tf.math.reduce_mean(tf.math.reduce_sum(tf.math.square(y_true - y_pred), 1), 0)\n",
    "    \n",
    "    return custom_loss"
   ]
  },
  {
   "cell_type": "code",
   "execution_count": 3,
   "metadata": {},
   "outputs": [],
   "source": [
    "class roughness(tf.keras.regularizers.Regularizer):\n",
    "    def __init__(self, l2 = 0.):  # pylint: disable = redefined-outer-name \n",
    "        self.l2 = l2 \n",
    " \n",
    "    def __call__(self, x):\n",
    "        return self.l2 * tf.math.reduce_mean(tf.math.reduce_sum(tf.math.square(x[:, 1:] - x[:, :-1]), 1), 0)\n",
    "        \n",
    "    def get_config(self):\n",
    "        return {'l2': float(self.l2)}"
   ]
  },
  {
   "cell_type": "markdown",
   "metadata": {},
   "source": [
    "#### 2.2 define earlystopping condition"
   ]
  },
  {
   "cell_type": "code",
   "execution_count": 4,
   "metadata": {},
   "outputs": [],
   "source": [
    "from tensorflow.keras.callbacks import Callback\n",
    "class earlystoppingbyloss(Callback):\n",
    "    def __init__(self, monitor = 'loss', value = 0.006, verbose = 0):\n",
    "        super(Callback, self).__init__()\n",
    "        self.monitor = monitor\n",
    "        self.value = value\n",
    "        self.verbose = verbose\n",
    "\n",
    "    def on_epoch_end(self, epoch, logs = {}):\n",
    "        current = logs.get(self.monitor)\n",
    "        if current < self.value:\n",
    "            if self.verbose > 0:\n",
    "                print(\"Epoch %05d: early stopping THR\" % epoch)\n",
    "            self.model.stop_training = True"
   ]
  },
  {
   "cell_type": "markdown",
   "metadata": {},
   "source": [
    "#### 2.3 define MT network "
   ]
  },
  {
   "cell_type": "code",
   "execution_count": 5,
   "metadata": {},
   "outputs": [],
   "source": [
    "def MT_net(input_size, geomodel_size, weight_dense1, weight_geomodel, bias_Dense1, bias_geomodel, rough):\n",
    "    model = models.Sequential()\n",
    "    model.add(layers.Dense(500, \n",
    "                            activation = 'relu', # softplus\n",
    "                            use_bias = True, \n",
    "                            kernel_initializer = tf.constant_initializer(weight_dense1), \n",
    "                            bias_initializer = tf.constant_initializer(bias_Dense1), \n",
    "                           \n",
    "                            name = 'dense1', \n",
    "                            input_shape = (input_size, )))\n",
    "    \n",
    "    # model.add(tf.keras.layers.BatchNormalization())\n",
    "    # model.add(layers.Dropout(0.5))\n",
    "    \n",
    "    model.add(layers.Dense(geomodel_size, \n",
    "                           # activation = 'relu', \n",
    "                           use_bias = True, \n",
    "                           kernel_initializer = tf.constant_initializer(weight_geomodel), \n",
    "                           bias_initializer = tf.constant_initializer(bias_geomodel), \n",
    "                           \n",
    "                           activity_regularizer = roughness(rough), \n",
    "                           \n",
    "                           name = 'geomodel'))\n",
    "    \n",
    "    model.add(layers.Lambda(lambda x: mt1d_analytic_tensor(x)))\n",
    "\n",
    "    return model"
   ]
  },
  {
   "cell_type": "markdown",
   "metadata": {},
   "source": [
    "### 3. plot training loss"
   ]
  },
  {
   "cell_type": "code",
   "execution_count": 6,
   "metadata": {},
   "outputs": [],
   "source": [
    "# note: used for synthetic data\n",
    "def plot_loss(history):\n",
    "    fig = plt.figure(figsize = (3, 3))\n",
    "    ax = plt.axes([0.25, 0.25, 0.75, 0.75])\n",
    "    \n",
    "    # plt.semilogy(history.history['loss'], linewidth = 2.)\n",
    "    # plt.semilogy(history.history['val_loss'], linewidth = 2.)\n",
    "    \n",
    "    plt.plot(history.history['loss'], linewidth = 2.)\n",
    "    plt.plot(history.history['val_loss'], linewidth = 2.)\n",
    "    plt.ylabel('$\\Phi$', fontsize = 12)\n",
    "    plt.xlabel('Epoch', fontsize = 12)\n",
    "    # plt.xticks(fontsize = 10.5)\n",
    "    plt.yticks(fontsize = 10.5)\n",
    "    plt.xticks(np.linspace(0, 20, 5), fontsize = 10.5)\n",
    "    ax.legend(['Training', 'Evaluation'], loc = 'best', fontsize = 10)\n",
    "    # plt.savefig('phi.tiff', dpi = 300, format = 'tiff')\n",
    "    plt.show()\n",
    "    \n",
    "    fig = plt.figure(figsize = (3, 3))\n",
    "    ax = plt.axes([0.25, 0.25, 0.75, 0.75])\n",
    "    plt.plot(history.history['custom_loss'], linewidth = 2.)\n",
    "    plt.plot(history.history['val_custom_loss'], linewidth = 2.)\n",
    "    plt.ylabel('$\\Phi$' + '(d)', fontsize = 12)\n",
    "    plt.xlabel('Epoch', fontsize = 12)\n",
    "    # plt.xticks(fontsize = 10.5)\n",
    "    plt.yticks(fontsize = 10.5)\n",
    "    plt.xticks(np.linspace(0, 20, 5), fontsize = 10.5)\n",
    "    ax.legend(['Training', 'Evaluation'], loc = 'best', fontsize = 10)\n",
    "    # plt.savefig('phi_d.tiff', dpi = 300, format = 'tiff')\n",
    "    plt.show()\n",
    "    \n",
    "    fig = plt.figure(figsize = (3, 3))\n",
    "    ax = plt.axes([0.25, 0.25, 0.75, 0.75])\n",
    "    plt.plot((np.array(history.history['loss']) - np.array(history.history['custom_loss'])) / 4.5, linewidth = 2.)\n",
    "    plt.plot((np.array(history.history['val_loss']) - np.array(history.history['val_custom_loss'])) / 4.5, linewidth = 2.)\n",
    "    plt.ylabel('$\\Phi$' + '(m)', fontsize = 12)\n",
    "    plt.xlabel('Epoch', fontsize = 12)\n",
    "    # plt.xticks(fontsize = 10.5)\n",
    "    plt.yticks(fontsize = 10.5)\n",
    "    plt.xticks(np.linspace(0, 20, 5), fontsize = 10.5)\n",
    "    # plt.ticklabel_format(axis = 'y', style = 'sci')\n",
    "    ax.legend(['Training', 'Evaluation'], loc = 'best', fontsize = 10)\n",
    "    # plt.savefig('phi_m.tiff', dpi = 300, format = 'tiff')\n",
    "    plt.show()"
   ]
  },
  {
   "cell_type": "markdown",
   "metadata": {},
   "source": [
    "### 4. ANN inversion"
   ]
  },
  {
   "cell_type": "markdown",
   "metadata": {},
   "source": [
    "#### 4.1 training"
   ]
  },
  {
   "cell_type": "code",
   "execution_count": 7,
   "metadata": {},
   "outputs": [],
   "source": [
    "def main_train(x_train, geomodel_size, weight_dense1, weight_geomodel, bias_Dense1, bias_geomodel, epochs, batch_size, rough = 1e-10, permission_value = 1e-5):\n",
    "    input_size = x_train.shape[1]\n",
    "    \n",
    "    model = MT_net(input_size, geomodel_size, weight_dense1, weight_geomodel, bias_Dense1, bias_geomodel, rough)\n",
    "    model.summary()\n",
    "    model.compile(optimizer = 'adam', loss = custom_loss, metrics = custom_loss)\n",
    "    \n",
    "    callbacks = [\n",
    "            earlystoppingbyloss(monitor = 'loss', value = permission_value, verbose = 0)]\n",
    "    \n",
    "    start = time()\n",
    "    history = model.fit(x_train, x_train, epochs = epochs, batch_size = batch_size, callbacks = callbacks, validation_split = 1. / 6.)\n",
    "    print(time()-start)\n",
    "    \n",
    "    weight_dense1, bias_Dense1 = model.get_layer('dense1').get_weights()\n",
    "    weight_geomodel, bias_geomodel = model.get_layer('geomodel').get_weights()\n",
    "    \n",
    "    return history, weight_dense1, weight_geomodel, bias_Dense1, bias_geomodel"
   ]
  },
  {
   "cell_type": "markdown",
   "metadata": {},
   "source": [
    "#### 4.2 evaluation"
   ]
  },
  {
   "cell_type": "code",
   "execution_count": 8,
   "metadata": {},
   "outputs": [],
   "source": [
    "def main_eval(x_train, geomodel_size, weight_dense1, weight_geomodel, bias_Dense1, bias_geomodel, batch_size, rough):\n",
    "    input_size = x_train.shape[1]\n",
    "    \n",
    "    model = MT_net(input_size, geomodel_size, weight_dense1, weight_geomodel, bias_Dense1, bias_geomodel, rough)\n",
    "    model.compile(optimizer = 'adam', loss = custom_loss, metrics = custom_loss)\n",
    "    # model.summary()\n",
    "    \n",
    "    # start = time()\n",
    "    history_eval = model.evaluate(x_train, x_train, batch_size = batch_size, verbose = 0, return_dict = False)\n",
    "    # print(time()-start)\n",
    "    \n",
    "    return history_eval"
   ]
  },
  {
   "cell_type": "markdown",
   "metadata": {},
   "source": [
    "#### 4.3 prediction"
   ]
  },
  {
   "cell_type": "code",
   "execution_count": 9,
   "metadata": {},
   "outputs": [],
   "source": [
    "def main_predict(x_pred, geomodel_size, weight_dense1, weight_geomodel, bias_Dense1, bias_geomodel, rough = 1e-3):\n",
    "    input_size = x_pred.shape[1]\n",
    "    \n",
    "    model = MT_net(input_size, geomodel_size, weight_dense1, weight_geomodel, bias_Dense1, bias_geomodel, rough)\n",
    "    \n",
    "    pred_model = Model(inputs = model.input, \n",
    "                       outputs = model.get_layer('geomodel').output)\n",
    "    # pred_model.summary()\n",
    "    geomodel_pre = pred_model.predict(x_pred)\n",
    "    \n",
    "    return geomodel_pre"
   ]
  },
  {
   "cell_type": "markdown",
   "metadata": {},
   "source": [
    "### 5. run"
   ]
  },
  {
   "cell_type": "markdown",
   "metadata": {},
   "source": [
    "#### 5.1 prepare data"
   ]
  },
  {
   "cell_type": "markdown",
   "metadata": {},
   "source": [
    "##### 5.1.1 train data"
   ]
  },
  {
   "cell_type": "code",
   "execution_count": 10,
   "metadata": {},
   "outputs": [],
   "source": [
    "rho_1 = np.loadtxt(\"/work/ess-liul/Geophysics/MTPGAE/dataset/rho1_20000.txt\", delimiter = ',')\n",
    "rho_2 = np.loadtxt(\"/work/ess-liul/Geophysics/MTPGAE/dataset/rho2_20000.txt\", delimiter = ',')\n",
    "rho_3 = np.loadtxt(\"/work/ess-liul/Geophysics/MTPGAE/dataset/rho3_20000.txt\", delimiter = ',')\n",
    "rho_4 = np.loadtxt(\"/work/ess-liul/Geophysics/MTPGAE/dataset/rho4_20000.txt\", delimiter = ',')\n",
    "rho_5 = np.loadtxt(\"/work/ess-liul/Geophysics/MTPGAE/dataset/rho5_20000.txt\", delimiter = ',')\n",
    "rho_6 = np.loadtxt(\"/work/ess-liul/Geophysics/MTPGAE/dataset/rho6_20000.txt\", delimiter = ',')\n",
    "\n",
    "rho = np.concatenate([rho_1, rho_2, rho_3, rho_4, rho_5, rho_6], 0)\n",
    "\n",
    "x_eval  = np.log10(rho_1) / 4.0\n",
    "x_train = np.log10(rho) / 4.0"
   ]
  },
  {
   "cell_type": "markdown",
   "metadata": {},
   "source": [
    "#### 5.2 set up network params"
   ]
  },
  {
   "cell_type": "code",
   "execution_count": 11,
   "metadata": {},
   "outputs": [],
   "source": [
    "geomodel_size = 31 # output size of predict network\n",
    "input_size = x_train.shape[1]\n",
    "num_dense1 = 500"
   ]
  },
  {
   "cell_type": "code",
   "execution_count": 12,
   "metadata": {},
   "outputs": [],
   "source": [
    "from scipy.stats import truncnorm\n",
    "# method 1\n",
    "tn = truncnorm(-2., 2., loc = 0.0, scale = 0.05)\n",
    "\n",
    "weight_dense1   = tn.rvs(size=[input_size, num_dense1])\n",
    "weight_geomodel = tn.rvs(size=[num_dense1, geomodel_size])\n",
    "bias_Dense1     = tn.rvs(size=[num_dense1, 1])\n",
    "bias_geomodel   = tn.rvs(size=[geomodel_size, 1])\n",
    "\n",
    "# method 2\n",
    "# weight_dense1   = np.random.normal(loc = 0.0, scale = 0.05, size = [input_size, num_dense1])\n",
    "# weight_geomodel = np.random.normal(loc = 0.0, scale = 0.05, size = [num_dense1, geomodel_size])\n",
    "# bias_Dense1     = np.random.normal(loc = 0.0, scale = 0.05, size = [num_dense1, 1])\n",
    "# bias_geomodel   = np.random.normal(loc = 0.0, scale = 0.05, size = [geomodel_size, 1])\n",
    "\n",
    "\n",
    "# method 3\n",
    "# weight_dense1 = np.loadtxt('weight_dense1.txt', delimiter = ',')\n",
    "# weight_geomodel = np.loadtxt('weight_geomodel.txt', delimiter = ',')\n",
    "# bias_Dense1 = np.loadtxt('bias_Dense1.txt', delimiter = ',')\n",
    "# bias_geomodel = np.loadtxt('bias_geomodel.txt', delimiter = ',')\n"
   ]
  },
  {
   "cell_type": "markdown",
   "metadata": {},
   "source": [
    "#### 5.3 training"
   ]
  },
  {
   "cell_type": "code",
   "execution_count": null,
   "metadata": {
    "scrolled": true
   },
   "outputs": [
    {
     "name": "stderr",
     "output_type": "stream",
     "text": [
      "2024-11-08 16:46:02.967464: I tensorflow/core/platform/cpu_feature_guard.cc:193] This TensorFlow binary is optimized with oneAPI Deep Neural Network Library (oneDNN) to use the following CPU instructions in performance-critical operations:  SSE4.1 SSE4.2 AVX AVX2 AVX512F FMA\n",
      "To enable them in other operations, rebuild TensorFlow with the appropriate compiler flags.\n",
      "2024-11-08 16:46:03.103350: I tensorflow/core/common_runtime/process_util.cc:146] Creating new thread pool with default inter op setting: 2. Tune using inter_op_parallelism_threads for best performance.\n"
     ]
    },
    {
     "name": "stdout",
     "output_type": "stream",
     "text": [
      "Model: \"sequential\"\n",
      "_________________________________________________________________\n",
      " Layer (type)                Output Shape              Param #   \n",
      "=================================================================\n",
      " dense1 (Dense)              (None, 500)               13000     \n",
      "                                                                 \n",
      " geomodel (Dense)            (None, 31)                15531     \n",
      "                                                                 \n",
      " lambda (Lambda)             (None, 25)                0         \n",
      "                                                                 \n",
      "=================================================================\n",
      "Total params: 28,531\n",
      "Trainable params: 28,531\n",
      "Non-trainable params: 0\n",
      "_________________________________________________________________\n",
      "Epoch 1/20\n",
      "1563/1563 [==============================] - 108s 67ms/step - loss: 0.0314 - custom_loss: 0.0288 - val_loss: 0.0130 - val_custom_loss: 0.0104\n",
      "Epoch 2/20\n",
      "1563/1563 [==============================] - 113s 72ms/step - loss: 0.0118 - custom_loss: 0.0090 - val_loss: 0.0115 - val_custom_loss: 0.0085\n",
      "Epoch 3/20\n",
      "1563/1563 [==============================] - 122s 78ms/step - loss: 0.0105 - custom_loss: 0.0075 - val_loss: 0.0100 - val_custom_loss: 0.0069\n",
      "Epoch 4/20\n",
      "1563/1563 [==============================] - 121s 77ms/step - loss: 0.0099 - custom_loss: 0.0067 - val_loss: 0.0097 - val_custom_loss: 0.0064\n",
      "Epoch 5/20\n",
      "1563/1563 [==============================] - 120s 77ms/step - loss: 0.0096 - custom_loss: 0.0063 - val_loss: 0.0094 - val_custom_loss: 0.0061\n",
      "Epoch 6/20\n",
      "1563/1563 [==============================] - 118s 76ms/step - loss: 0.0093 - custom_loss: 0.0060 - val_loss: 0.0092 - val_custom_loss: 0.0058\n",
      "Epoch 7/20\n",
      "1563/1563 [==============================] - 122s 78ms/step - loss: 0.0092 - custom_loss: 0.0058 - val_loss: 0.0090 - val_custom_loss: 0.0056\n",
      "Epoch 8/20\n",
      "1563/1563 [==============================] - 113s 73ms/step - loss: 0.0091 - custom_loss: 0.0056 - val_loss: 0.0091 - val_custom_loss: 0.0056\n",
      "Epoch 9/20\n",
      "1563/1563 [==============================] - 104s 67ms/step - loss: 0.0090 - custom_loss: 0.0055 - val_loss: 0.0090 - val_custom_loss: 0.0055\n",
      "Epoch 10/20\n",
      "1563/1563 [==============================] - 103s 66ms/step - loss: 0.0089 - custom_loss: 0.0054 - val_loss: 0.0088 - val_custom_loss: 0.0052\n",
      "Epoch 11/20\n",
      "1563/1563 [==============================] - 108s 69ms/step - loss: 0.0088 - custom_loss: 0.0053 - val_loss: 0.0087 - val_custom_loss: 0.0052\n",
      "Epoch 12/20\n",
      "1563/1563 [==============================] - 114s 73ms/step - loss: 0.0088 - custom_loss: 0.0052 - val_loss: 0.0091 - val_custom_loss: 0.0055\n",
      "Epoch 13/20\n",
      "1563/1563 [==============================] - 115s 74ms/step - loss: 0.0087 - custom_loss: 0.0051 - val_loss: 0.0086 - val_custom_loss: 0.0051\n",
      "Epoch 14/20\n",
      "1563/1563 [==============================] - 119s 76ms/step - loss: 0.0087 - custom_loss: 0.0051 - val_loss: 0.0087 - val_custom_loss: 0.0051\n",
      "Epoch 15/20\n",
      "1563/1563 [==============================] - 118s 76ms/step - loss: 0.0087 - custom_loss: 0.0050 - val_loss: 0.0086 - val_custom_loss: 0.0050\n",
      "Epoch 16/20\n",
      "1563/1563 [==============================] - 118s 76ms/step - loss: 0.0087 - custom_loss: 0.0050 - val_loss: 0.0086 - val_custom_loss: 0.0050\n",
      "Epoch 17/20\n",
      "1563/1563 [==============================] - 116s 74ms/step - loss: 0.0086 - custom_loss: 0.0050 - val_loss: 0.0087 - val_custom_loss: 0.0051\n",
      "Epoch 18/20\n",
      "1563/1563 [==============================] - 101s 64ms/step - loss: 0.0086 - custom_loss: 0.0050 - val_loss: 0.0086 - val_custom_loss: 0.0050\n",
      "Epoch 19/20\n",
      "1563/1563 [==============================] - 96s 61ms/step - loss: 0.0086 - custom_loss: 0.0049 - val_loss: 0.0085 - val_custom_loss: 0.0049\n",
      "Epoch 20/20\n",
      "1563/1563 [==============================] - 88s 56ms/step - loss: 0.0086 - custom_loss: 0.0049 - val_loss: 0.0087 - val_custom_loss: 0.0050\n",
      "2238.525130033493\n"
     ]
    }
   ],
   "source": [
    "history, weight_dense1, weight_geomodel, bias_Dense1, bias_geomodel = main_train(\n",
    "    x_train, geomodel_size, weight_dense1, weight_geomodel, bias_Dense1, bias_geomodel, \n",
    "    epochs = 20, batch_size = 64, rough = 4.5, permission_value = 1e-7)\n",
    "\n",
    "np.savetxt('/work/ess-liul/Geophysics/MTPGAE/ANN/history1.txt', history.history['loss'], fmt = \"%g\", delimiter = ',')\n",
    "np.savetxt(r'/work/ess-liul/Geophysics/MTPGAE/ANN/weight_dense1.txt', weight_dense1, fmt = \"%g\", delimiter = ',')\n",
    "np.savetxt(r'/work/ess-liul/Geophysics/MTPGAE/ANN/weight_geomodel.txt', weight_geomodel, fmt = \"%g\", delimiter = ',')\n",
    "np.savetxt(r'/work/ess-liul/Geophysics/MTPGAE/ANN/bias_Dense1.txt', bias_Dense1, fmt = \"%g\", delimiter = ',')\n",
    "np.savetxt(r'/work/ess-liul/Geophysics/MTPGAE/ANN/bias_geomodel.txt', bias_geomodel, fmt = \"%g\", delimiter = ',')"
   ]
  },
  {
   "cell_type": "code",
   "execution_count": null,
   "metadata": {},
   "outputs": [],
   "source": [
    "np.savetxt((\"/work/ess-liul/Geophysics/MTPGAE/ANN/phi_train.txt\"), history.history['loss'], delimiter = ',')\n",
    "np.savetxt((\"/work/ess-liul/Geophysics/MTPGAE/ANN/phi_eval.txt\"), history.history['val_loss'], delimiter = ',')\n",
    "np.savetxt((\"/work/ess-liul/Geophysics/MTPGAE/ANN/phi_d_train.txt\"), history.history['custom_loss'], delimiter = ',')\n",
    "np.savetxt((\"/work/ess-liul/Geophysics/MTPGAE/ANN/phi_d_eval.txt\"), history.history['val_custom_loss'], delimiter = ',')\n",
    "np.savetxt((\"/work/ess-liul/Geophysics/MTPGAE/ANN/phi_m_train.txt\"), (np.array(history.history['loss']) - np.array(history.history['custom_loss'])) / 4.5, delimiter = ',')\n",
    "np.savetxt((\"/work/ess-liul/Geophysics/MTPGAE/ANN/phi_m_eval.txt\"), (np.array(history.history['val_loss']) - np.array(history.history['val_custom_loss'])) / 4.5, delimiter = ',')"
   ]
  },
  {
   "cell_type": "code",
   "execution_count": 29,
   "metadata": {
    "scrolled": true
   },
   "outputs": [
    {
     "data": {
      "image/png": "[encoded data removed]",
      "text/plain": [
       "<Figure size 300x300 with 1 Axes>"
      ]
     },
     "metadata": {},
     "output_type": "display_data"
    },
    {
     "data": {
      "image/png": "[encoded data removed]",
      "text/plain": [
       "<Figure size 300x300 with 1 Axes>"
      ]
     },
     "metadata": {},
     "output_type": "display_data"
    },
    {
     "data": {
      "image/png": "[encoded data removed]",
      "text/plain": [
       "<Figure size 300x300 with 1 Axes>"
      ]
     },
     "metadata": {},
     "output_type": "display_data"
    }
   ],
   "source": [
    "plot_loss(history)"
   ]
  },
  {
   "cell_type": "markdown",
   "metadata": {},
   "source": [
    "### End"
   ]
  }
 ],
 "metadata": {
  "kernelspec": {
   "display_name": "MT",
   "language": "python",
   "name": "python3"
  },
  "language_info": {
   "codemirror_mode": {
    "name": "ipython",
    "version": 3
   },
   "file_extension": ".py",
   "mimetype": "text/x-python",
   "name": "python",
   "nbconvert_exporter": "python",
   "pygments_lexer": "ipython3",
   "version": "3.10.9"
  }
 },
 "nbformat": 4,
 "nbformat_minor": 4
}
