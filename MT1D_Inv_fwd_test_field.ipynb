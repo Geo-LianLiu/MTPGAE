{
 "cells": [
  {
   "cell_type": "markdown",
   "metadata": {},
   "source": [
    "## PGAE for 1D MT inversion\n",
    "### Created on May 30 2023\n",
    "### Lian Liu: lianliu1017@126.com"
   ]
  },
  {
   "cell_type": "markdown",
   "metadata": {},
   "source": [
    "### 1. import modules"
   ]
  },
  {
   "cell_type": "code",
   "execution_count": 13,
   "metadata": {},
   "outputs": [],
   "source": [
    "import tensorflow as tf\n",
    "from tensorflow.keras import models, layers, Input, Model, regularizers\n",
    "import numpy as np\n",
    "import matplotlib.pyplot as plt\n",
    "from scipy.interpolate import interp1d\n",
    "from time import time\n",
    "import sys\n",
    "sys.path.append(r'/work/ess-liul/Geophysics/MTPGAE')\n",
    "from MT1D_fwd import mt1d_analytic, mt1d_analytic_tensor\n",
    "import os\n",
    "# os.environ[\"CUDA_VISIBLE_DEVICES\"] = \"1\""
   ]
  },
  {
   "cell_type": "markdown",
   "metadata": {},
   "source": [
    "### 2. design neural networks"
   ]
  },
  {
   "cell_type": "code",
   "execution_count": 57,
   "metadata": {},
   "outputs": [],
   "source": [
    "def MT_net(input_size, geomodel_size, weight_dense1, weight_geomodel, bias_Dense1, bias_geomodel):\n",
    "    model = models.Sequential()\n",
    "    model.add(layers.Dense(500, \n",
    "                            activation = 'relu', # softplus\n",
    "                            use_bias = True, \n",
    "                            kernel_initializer = tf.constant_initializer(weight_dense1), \n",
    "                            bias_initializer = tf.constant_initializer(bias_Dense1), \n",
    "                           \n",
    "                            name = 'dense1', \n",
    "                            input_shape = (input_size, )))\n",
    "    \n",
    "    # model.add(tf.keras.layers.BatchNormalization())\n",
    "    # model.add(layers.Dropout(0.5))\n",
    "    \n",
    "    model.add(layers.Dense(geomodel_size, \n",
    "                           # activation = 'relu', \n",
    "                           use_bias = True, \n",
    "                           kernel_initializer = tf.constant_initializer(weight_geomodel), \n",
    "                           bias_initializer = tf.constant_initializer(bias_geomodel), \n",
    "                           \n",
    "                           name = 'geomodel'))\n",
    "\n",
    "    return model"
   ]
  },
  {
   "cell_type": "markdown",
   "metadata": {},
   "source": [
    "### 3. run"
   ]
  },
  {
   "cell_type": "markdown",
   "metadata": {},
   "source": [
    "#### 3.1 prepare data"
   ]
  },
  {
   "cell_type": "code",
   "execution_count": null,
   "metadata": {},
   "outputs": [],
   "source": [
    "def load_field_data(freq, alpha): # Columns: freq, zxy_real, zxy_imag, rhoxy, phsxy, zxye, rhoxye, phsxye # alpha: rho_ANN / rho_real\n",
    "    rho_field  = np.loadtxt(\"/work/ess-liul/Geophysics/MTPGAE/field/rho_field.txt\")\n",
    "    freq_field = np.loadtxt(\"/work/ess-liul/Geophysics/MTPGAE/field/freq_field.txt\")\n",
    "    num = len(rho_field)\n",
    "    rho_interp = np.zeros((num, 25))\n",
    "    \n",
    "    for i in np.arange(num):\n",
    "        f1 = interp1d(freq_field, rho_field[i, :], kind = 'linear')\n",
    "        \n",
    "        beta = freq[0, 0] / freq_field[0]\n",
    "        \n",
    "        freq_trans = freq.reshape(-1) / beta\n",
    "        \n",
    "        rho_new = f1(freq_trans)\n",
    "        \n",
    "        rho_new = rho_new * alpha\n",
    "        \n",
    "        rho_interp[i, :] = rho_new\n",
    "        \n",
    "    return rho_interp"
   ]
  },
  {
   "cell_type": "code",
   "execution_count": null,
   "metadata": {},
   "outputs": [],
   "source": [
    "# freq = np.logspace(4, 0, 25).reshape(-1, 1)\n",
    "# nf_field = 41\n",
    "alpha = 10 # rho_ANN / rho_real\n",
    "# rho_interp = load_field_data(freq, alpha)\n",
    "# print(rho_interp.shape)\n",
    "# np.savetxt(\"/work/ess-liul/Geophysics/MTPGAE/field/\"+\"rho_interp.txt\", rho_interp)\n",
    "rho_interp  = np.loadtxt(\"/work/ess-liul/Geophysics/MTPGAE/field/rho_interp.txt\")"
   ]
  },
  {
   "cell_type": "code",
   "execution_count": 268,
   "metadata": {},
   "outputs": [],
   "source": [
    "# normalization\n",
    "rho_linear = np.log10(rho_interp * alpha) / 4.0"
   ]
  },
  {
   "cell_type": "markdown",
   "metadata": {},
   "source": [
    "#### 3.2 set up network params"
   ]
  },
  {
   "cell_type": "code",
   "execution_count": 241,
   "metadata": {},
   "outputs": [],
   "source": [
    "geomodel_size = 31 # output size of predict network\n",
    "input_size = 25"
   ]
  },
  {
   "cell_type": "code",
   "execution_count": null,
   "metadata": {},
   "outputs": [],
   "source": [
    "# load network params\n",
    "weight_dense1 = np.loadtxt('/work/ess-liul/Geophysics/MTPGAE/ANN/weight_dense1.txt', delimiter = ',')\n",
    "weight_geomodel = np.loadtxt('/work/ess-liul/Geophysics/MTPGAE/ANN/weight_geomodel.txt', delimiter = ',')\n",
    "bias_Dense1 = np.loadtxt('/work/ess-liul/Geophysics/MTPGAE/ANN/bias_Dense1.txt', delimiter = ',')\n",
    "bias_geomodel = np.loadtxt('/work/ess-liul/Geophysics/MTPGAE/ANN/bias_geomodel.txt', delimiter = ',')"
   ]
  },
  {
   "cell_type": "markdown",
   "metadata": {},
   "source": [
    "#### 3.3 Predicting"
   ]
  },
  {
   "cell_type": "code",
   "execution_count": 271,
   "metadata": {},
   "outputs": [
    {
     "name": "stdout",
     "output_type": "stream",
     "text": [
      "Model: \"sequential_75\"\n",
      "_________________________________________________________________\n",
      " Layer (type)                Output Shape              Param #   \n",
      "=================================================================\n",
      " dense1 (Dense)              (None, 500)               13000     \n",
      "                                                                 \n",
      " geomodel (Dense)            (None, 31)                15531     \n",
      "                                                                 \n",
      "=================================================================\n",
      "Total params: 28,531\n",
      "Trainable params: 28,531\n",
      "Non-trainable params: 0\n",
      "_________________________________________________________________\n"
     ]
    },
    {
     "name": "stdout",
     "output_type": "stream",
     "text": [
      "1/1 [==============================] - 0s 69ms/step\n",
      "0.12384867668151855\n"
     ]
    }
   ],
   "source": [
    "model = MT_net(input_size, geomodel_size, weight_dense1, weight_geomodel, bias_Dense1, bias_geomodel)\n",
    "model.summary()\n",
    "start = time()\n",
    "geomodel_pre = model.predict(rho_linear)\n",
    "print(time() - start)"
   ]
  },
  {
   "cell_type": "code",
   "execution_count": null,
   "metadata": {},
   "outputs": [],
   "source": [
    "# transform\n",
    "Inverted_rho = 10. ** (geomodel_pre * 4.) / alpha\n",
    "np.savetxt('/work/ess-liul/Geophysics/MTPGAE/field/Inverted_rho.txt', Inverted_rho)\n"
   ]
  },
  {
   "cell_type": "markdown",
   "metadata": {},
   "source": [
    "#### 3.4 plot inverted resistivities"
   ]
  },
  {
   "cell_type": "code",
   "execution_count": 275,
   "metadata": {},
   "outputs": [],
   "source": [
    "def plot_inverted(geomodel_pre, rho_interp, freq):\n",
    "    rho_fit = mt1d_analytic_tensor(tf.constant(geomodel_pre.reshape([1, -1])))\n",
    "    rho_fit = 10. ** (rho_fit.numpy() * 4.) / alpha\n",
    "    \n",
    "    # plot\n",
    "    Inverted_rho = 10. ** (geomodel_pre.reshape(-1) * 4.) / alpha\n",
    "    dz_invert = 20. + (10.** (0.115 * np.arange(1, len(Inverted_rho) -1, 1))).reshape([1, -1])\n",
    "    dz_invert = np.hstack([np.array([[20.]]), dz_invert])# / np.sqrt(515./10000.)\n",
    "    Inverted_rho = np.concatenate([Inverted_rho[0].reshape(-1), Inverted_rho], axis=0)\n",
    "    \n",
    "    z_inverted = np.concatenate([[1.], np.cumsum(dz_invert)], axis=0)\n",
    "    z_inverted = np.append(z_inverted, 10000.)\n",
    "    \n",
    "    plt.figure(figsize = (5, 6))\n",
    "    ####################################plot resistivities####################################\n",
    "    ax1 = plt.axes([0.20, 0.6, 0.73, 0.38]) # [x, y, width, height]\n",
    "    ax1.step(z_inverted, Inverted_rho, linewidth = 2., color = 'tab:orange')\n",
    "    ax1.set_xscale(\"log\")\n",
    "    ax1.set_yscale(\"log\")\n",
    "    plt.xlim((1e0, 1e4))\n",
    "    plt.ylim((1e-1, 1e2))\n",
    "    plt.xlabel('Depth (m)', fontsize = 22)\n",
    "    plt.ylabel('Resistivity (ohm.m)', fontsize = 22)\n",
    "    ax1.legend(['Inverted'], loc = 'best', fontsize = 15)\n",
    "    \n",
    "    ####################################plot rho####################################\n",
    "    ax2 = plt.axes([0.20, 0.10, 0.73, 0.38]) # [x,y,width,height]\n",
    "    ax2.plot(freq, rho_fit.T, linewidth = 2., color = 'tab:orange')\n",
    "    ax2.plot(freq, rho_interp, linewidth = 2., color = 'tab:blue')\n",
    "    # ax2.errorbar(freq, rho_field, yerr = rho_sd, fmt = '', ecolor = 'r', color = 'tab:blue', elinewidth = 2, linewidth = 2)\n",
    "    ax2 = plt.gca()\n",
    "    ax2.invert_xaxis()\n",
    "    ax2.set_xscale(\"log\")\n",
    "    ax2.set_yscale(\"log\")\n",
    "    plt.xlim((1e3, 1e-2))\n",
    "    plt.ylim((1e-1, 1e2))\n",
    "    plt.xlabel('Frequency (Hz)', fontsize = 22)\n",
    "    plt.ylabel('Rho (ohm.m)', fontsize = 22)\n",
    "    ax2.legend(['Inverted', 'Real'], loc = 'best', fontsize = 15)\n",
    "    # plt.savefig('Resis_and_rho.tiff', dpi = 300, format = 'tiff')\n",
    "    plt.show()"
   ]
  },
  {
   "cell_type": "code",
   "execution_count": 289,
   "metadata": {},
   "outputs": [
    {
     "data": {
      "image/png": "[encoded data removed]",
      "text/plain": [
       "<Figure size 500x600 with 2 Axes>"
      ]
     },
     "metadata": {},
     "output_type": "display_data"
    }
   ],
   "source": [
    "freq = np.logspace(4, 0, 25).reshape(-1, 1)\n",
    "freq = freq / 10000. * 515.\n",
    "k = 0\n",
    "plot_inverted(geomodel_pre[k], rho_interp[k], freq)"
   ]
  },
  {
   "cell_type": "markdown",
   "metadata": {},
   "source": [
    "### End"
   ]
  }
 ],
 "metadata": {
  "kernelspec": {
   "display_name": "MT",
   "language": "python",
   "name": "python3"
  },
  "language_info": {
   "codemirror_mode": {
    "name": "ipython",
    "version": 3
   },
   "file_extension": ".py",
   "mimetype": "text/x-python",
   "name": "python",
   "nbconvert_exporter": "python",
   "pygments_lexer": "ipython3",
   "version": "3.10.9"
  }
 },
 "nbformat": 4,
 "nbformat_minor": 4
}
