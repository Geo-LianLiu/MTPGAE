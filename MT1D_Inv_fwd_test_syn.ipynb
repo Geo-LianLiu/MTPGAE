{
 "cells": [
  {
   "cell_type": "markdown",
   "metadata": {},
   "source": [
    "## PGAE for 1D MT inversion\n",
    "### Created on Oct 1st 2019\n",
    "### Lian Liu: lianliu1017@126.com"
   ]
  },
  {
   "cell_type": "markdown",
   "metadata": {},
   "source": [
    "### 1. import modules"
   ]
  },
  {
   "cell_type": "code",
   "execution_count": 2,
   "metadata": {},
   "outputs": [
    {
     "name": "stderr",
     "output_type": "stream",
     "text": [
      "2024-11-08 22:32:13.137930: I tensorflow/core/platform/cpu_feature_guard.cc:193] This TensorFlow binary is optimized with oneAPI Deep Neural Network Library (oneDNN) to use the following CPU instructions in performance-critical operations:  SSE4.1 SSE4.2 AVX AVX2 AVX512F FMA\n",
      "To enable them in other operations, rebuild TensorFlow with the appropriate compiler flags.\n"
     ]
    }
   ],
   "source": [
    "import tensorflow as tf\n",
    "from tensorflow.keras import models, layers, Input, Model, regularizers\n",
    "import numpy as np\n",
    "import cmath as cm\n",
    "import matplotlib.pyplot as plt\n",
    "from time import time\n",
    "import sys\n",
    "sys.path.append(r'/work/ess-liul/Geophysics/MTPGAE')\n",
    "from MT1D_fwd import mt1d_analytic, mt1d_analytic_tensor\n",
    "import os\n",
    "# os.environ[\"CUDA_VISIBLE_DEVICES\"] = \"-1\""
   ]
  },
  {
   "cell_type": "markdown",
   "metadata": {},
   "source": [
    "### 2. design neural networks"
   ]
  },
  {
   "cell_type": "code",
   "execution_count": 9,
   "metadata": {},
   "outputs": [],
   "source": [
    "def MT_net(input_size, geomodel_size, weight_dense1, weight_geomodel, bias_Dense1, bias_geomodel):\n",
    "    model = models.Sequential()\n",
    "    model.add(layers.Dense(500, \n",
    "                            activation = 'relu', # softplus\n",
    "                            use_bias = True, \n",
    "                            kernel_initializer = tf.constant_initializer(weight_dense1), \n",
    "                            bias_initializer = tf.constant_initializer(bias_Dense1), \n",
    "                           \n",
    "                            name = 'dense1', \n",
    "                            input_shape = (input_size, )))\n",
    "    \n",
    "    # model.add(tf.keras.layers.BatchNormalization())\n",
    "    # model.add(layers.Dropout(0.5))\n",
    "    \n",
    "    model.add(layers.Dense(geomodel_size, \n",
    "                           # activation = 'relu', \n",
    "                           use_bias = True, \n",
    "                           kernel_initializer = tf.constant_initializer(weight_geomodel), \n",
    "                           bias_initializer = tf.constant_initializer(bias_geomodel), \n",
    "                           \n",
    "                           name = 'geomodel'))\n",
    "    \n",
    "    model.add(layers.Lambda(lambda x: mt1d_analytic_tensor(x)))\n",
    "\n",
    "    return model"
   ]
  },
  {
   "cell_type": "markdown",
   "metadata": {},
   "source": [
    "### 3. plot figures"
   ]
  },
  {
   "cell_type": "markdown",
   "metadata": {},
   "source": [
    "note: used for synthetic data"
   ]
  },
  {
   "cell_type": "code",
   "execution_count": 15,
   "metadata": {},
   "outputs": [],
   "source": [
    "def plot_comparison(resis, rho_sd, geomodel_pre, rho_real, dz_real, freq):\n",
    "    rho_fit = mt1d_analytic_tensor(tf.constant(geomodel_pre))\n",
    "    rho_fit = rho_fit.numpy()\n",
    "    rho_fit = 10. ** (rho_fit * 4.0)\n",
    "    rho_real = 10. ** (rho_real * 4.0)\n",
    "    \n",
    "    # plot\n",
    "    resis_inverted = 10.0 ** (4.0 * np.array(geomodel_pre)).reshape(-1)\n",
    "    dz_invert = 20. + (10.** (0.115 * np.arange(1, geomodel_pre.shape[1] - 1, 1))).reshape([1, -1])\n",
    "    dz_invert = np.hstack([np.array([[20.]]), dz_invert])\n",
    "    # dz_invert = 5.0 * (1.23**np.arange(0, geomodel_pre.shape[1] - 1, 1)).reshape([1, -1])\n",
    "    z_inverted = np.cumsum(np.insert(dz_invert, 0, 1, axis = 1))\n",
    "    z_inverted = np.append(z_inverted, 10000)\n",
    "    \n",
    "    z_real = np.cumsum(np.insert(dz_real, 0, 1, 1))\n",
    "    z_real = np.append(z_real, 10000)\n",
    "    \n",
    "    resis_real = np.insert(resis[0], 0, resis[0][0], 0)\n",
    "    resis_inverted = np.insert(resis_inverted, 0, resis_inverted[0], 0)\n",
    "    \n",
    "    plt.figure(figsize = (3, 6))\n",
    "    ####################################plot resistivities####################################\n",
    "    ax1 = plt.axes([0.20, 0.6, 0.73, 0.38]) # [x, y, width, height]\n",
    "    \n",
    "    ax1.step(z_real, resis_real, linewidth = 2., color = 'tab:blue')\n",
    "    ax1.step(z_inverted, resis_inverted, linewidth = 2., color = 'tab:orange')\n",
    "    ax1.set_xscale(\"log\")\n",
    "    ax1.set_yscale(\"log\")\n",
    "    plt.xlim((1e0, 1e4))\n",
    "    plt.ylim((1e0, 1e4))\n",
    "    plt.xlabel('Depth (m)', fontsize = 12)\n",
    "    plt.ylabel('Resistivity (ohm.m)', fontsize = 12)\n",
    "    plt.xticks(np.logspace(0, 4, 5), fontsize = 10.5)\n",
    "    plt.yticks(np.logspace(0, 4, 5), fontsize = 10.5)\n",
    "    ax1.legend(['Real', 'Inverted'], loc = 'best', fontsize = 10.5)\n",
    "    \n",
    "    ####################################plot rho####################################\n",
    "    ax2 = plt.axes([0.20, 0.10, 0.73, 0.38]) # [x,y,width,height]\n",
    "    \n",
    "    # plt.plot(freq, rho_real[0, :], linewidth = 2.)\n",
    "    # plt.plot(freq, rho_fit[0, :], linewidth = 2., color = 'tab:orange')\n",
    "    # ax2.errorbar(freq, rho_real[0, :], yerr = rho_sd, fmt = '', ecolor = 'r', color = 'tab:blue', elinewidth = 2, linewidth = 2)\n",
    "    ax2.plot(freq, rho_fit[0, :], linewidth = 2., color = 'tab:orange')\n",
    "    ax2.errorbar(freq, rho_real[0, :], yerr = 1.*rho_sd.reshape(-1), fmt = '', ecolor = 'r', color = 'tab:blue', elinewidth = 2, linewidth = 2)\n",
    "    ax2 = plt.gca()\n",
    "    ax2.invert_xaxis()\n",
    "    ax2.set_xscale(\"log\")\n",
    "    ax2.set_yscale(\"log\")\n",
    "    plt.xlim((1e4, 1e0))\n",
    "    plt.ylim((1e0, 1e4))\n",
    "    plt.xlabel('Frequency (Hz)', fontsize = 12)\n",
    "    plt.ylabel('Rho (ohm.m)', fontsize = 12)\n",
    "    plt.xticks(np.logspace(4, 0, 5), fontsize = 10.5)\n",
    "    plt.yticks(np.logspace(0, 4, 5), fontsize = 10.5)\n",
    "    ax2.legend(['Inverted', 'Real'], loc = 'best', fontsize = 10.2)\n",
    "    # plt.legend(['Without noise','Inverted','With noise'], loc='best', fontsize = 15)\n",
    "    # plt.savefig('Resis_and_rho.tiff', dpi = 300, format = 'tiff')\n",
    "    plt.show()"
   ]
  },
  {
   "cell_type": "markdown",
   "metadata": {},
   "source": [
    "### 5. run"
   ]
  },
  {
   "cell_type": "markdown",
   "metadata": {},
   "source": [
    "#### 5.2 set up network params"
   ]
  },
  {
   "cell_type": "code",
   "execution_count": 16,
   "metadata": {},
   "outputs": [],
   "source": [
    "geomodel_size = 31 # output size of predict network\n",
    "input_size = 25"
   ]
  },
  {
   "cell_type": "code",
   "execution_count": null,
   "metadata": {},
   "outputs": [],
   "source": [
    "# load network params\n",
    "weight_dense1 = np.loadtxt('/work/ess-liul/Geophysics/MTPGAE/ANN/weight_dense1.txt', delimiter = ',')\n",
    "weight_geomodel = np.loadtxt('/work/ess-liul/Geophysics/MTPGAE/ANN/weight_geomodel.txt', delimiter = ',')\n",
    "bias_Dense1 = np.loadtxt('/work/ess-liul/Geophysics/MTPGAE/ANN/bias_Dense1.txt', delimiter = ',')\n",
    "bias_geomodel = np.loadtxt('/work/ess-liul/Geophysics/MTPGAE/ANN/bias_geomodel.txt', delimiter = ',')"
   ]
  },
  {
   "cell_type": "code",
   "execution_count": 18,
   "metadata": {},
   "outputs": [],
   "source": [
    "model = MT_net(input_size, geomodel_size, weight_dense1, weight_geomodel, bias_Dense1, bias_geomodel)\n",
    "\n",
    "pred_model = Model(inputs = model.input, \n",
    "                    outputs = model.get_layer('geomodel').output)\n",
    "# pred_model.summary()"
   ]
  },
  {
   "cell_type": "markdown",
   "metadata": {},
   "source": [
    "#### 5.4 Predicting"
   ]
  },
  {
   "cell_type": "markdown",
   "metadata": {},
   "source": [
    "##### 5.4.1 Predicting according to synthetic data and plot resistivity and rho"
   ]
  },
  {
   "cell_type": "code",
   "execution_count": 25,
   "metadata": {},
   "outputs": [
    {
     "name": "stdout",
     "output_type": "stream",
     "text": [
      "1/1 [==============================] - 0s 44ms/step\n"
     ]
    },
    {
     "data": {
      "image/png": "[encoded data removed]",
      "text/plain": [
       "<Figure size 300x600 with 2 Axes>"
      ]
     },
     "metadata": {},
     "output_type": "display_data"
    }
   ],
   "source": [
    "errorfloor = 0.1\n",
    "dz = np.array([[50, 100, 500]])\n",
    "resis = np.array([[100, 100, 10, 100]])\n",
    "freq = np.logspace(4, 0, 25).reshape(-1, 1)\n",
    "zxy, z_sd, rho, rho_sd = mt1d_analytic(freq, dz, 1. / resis, errorfloor)\n",
    "rho = rho.reshape(1, -1)\n",
    "rho = np.log10(rho) / 4.0\n",
    "geomodel_pre = pred_model.predict(rho)\n",
    "# np.savetxt(r'geomodel_pre_syn.txt', geomodel_pre_syn, fmt = \"%g\", delimiter = ',')\n",
    "plot_comparison(resis, rho_sd, geomodel_pre, rho, dz, freq)"
   ]
  },
  {
   "cell_type": "markdown",
   "metadata": {},
   "source": [
    "### End"
   ]
  }
 ],
 "metadata": {
  "kernelspec": {
   "display_name": "MT",
   "language": "python",
   "name": "python3"
  },
  "language_info": {
   "codemirror_mode": {
    "name": "ipython",
    "version": 3
   },
   "file_extension": ".py",
   "mimetype": "text/x-python",
   "name": "python",
   "nbconvert_exporter": "python",
   "pygments_lexer": "ipython3",
   "version": "3.10.9"
  }
 },
 "nbformat": 4,
 "nbformat_minor": 4
}
